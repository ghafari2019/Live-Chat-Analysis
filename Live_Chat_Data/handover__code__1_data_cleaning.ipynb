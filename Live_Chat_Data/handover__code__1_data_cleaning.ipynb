{
 "cells": [
  {
   "cell_type": "markdown",
   "metadata": {
    "application/vnd.databricks.v1+cell": {
     "cellMetadata": {
      "byteLimit": 2048000,
      "rowLimit": 10000
     },
     "inputWidgets": {},
     "nuid": "8e1cba58-eef8-43d4-aa56-92dab2e80a1b",
     "showTitle": false,
     "tableResultSettingsMap": {},
     "title": ""
    }
   },
   "source": [
    "# 0. Setup"
   ]
  },
  {
   "cell_type": "code",
   "execution_count": 0,
   "metadata": {
    "application/vnd.databricks.v1+cell": {
     "cellMetadata": {
      "byteLimit": 2048000,
      "rowLimit": 10000
     },
     "inputWidgets": {},
     "nuid": "7d3d94a9-2296-4331-ba08-ffa9b4bbef02",
     "showTitle": false,
     "tableResultSettingsMap": {},
     "title": ""
    }
   },
   "outputs": [],
   "source": [
    "%pip install openai"
   ]
  },
  {
   "cell_type": "code",
   "execution_count": 0,
   "metadata": {
    "application/vnd.databricks.v1+cell": {
     "cellMetadata": {
      "byteLimit": 2048000,
      "rowLimit": 10000
     },
     "inputWidgets": {},
     "nuid": "c0ecedf5-5367-45ab-a04d-51b6d67a4b47",
     "showTitle": false,
     "tableResultSettingsMap": {},
     "title": ""
    }
   },
   "outputs": [],
   "source": [
    "import pandas as pd\n",
    "from datetime import date, datetime, timedelta\n",
    "import re\n",
    "import functools as func\n",
    "from pyspark.sql.functions import *\n",
    "import pyspark.sql.functions as f \n",
    "from delta.tables import DeltaTable\n",
    "from delta.tables import *\n",
    "from pyspark.sql.window import Window\n",
    "from pyspark.sql.types import StructType,StructField,StringType,IntegerType,DoubleType,TimestampType,ArrayType,DateType,BooleanType,NullType,LongType\n",
    "import json\n"
   ]
  },
  {
   "cell_type": "markdown",
   "metadata": {
    "application/vnd.databricks.v1+cell": {
     "cellMetadata": {},
     "inputWidgets": {},
     "nuid": "b06819fb-be95-4bf3-a1cc-330fc5707eb2",
     "showTitle": false,
     "tableResultSettingsMap": {},
     "title": ""
    }
   },
   "source": [
    "# 1. Data cleaning"
   ]
  },
  {
   "cell_type": "code",
   "execution_count": 0,
   "metadata": {
    "application/vnd.databricks.v1+cell": {
     "cellMetadata": {
      "byteLimit": 2048000,
      "rowLimit": 10000
     },
     "inputWidgets": {},
     "nuid": "f314bbaa-6e85-421c-a5f2-c1d651214876",
     "showTitle": false,
     "tableResultSettingsMap": {},
     "title": ""
    }
   },
   "outputs": [],
   "source": [
    "P_CHATHIST = \"abfss://standardized@odpweursensadls004p.dfs.core.windows.net/lhg/customer/cognigy_v4/chatbot_chathistory/\""
   ]
  },
  {
   "cell_type": "code",
   "execution_count": 0,
   "metadata": {
    "application/vnd.databricks.v1+cell": {
     "cellMetadata": {
      "byteLimit": 2048000,
      "rowLimit": 10000
     },
     "inputWidgets": {},
     "nuid": "2393a846-44f4-4217-adc9-08d0561daf1c",
     "showTitle": false,
     "tableResultSettingsMap": {},
     "title": ""
    }
   },
   "outputs": [],
   "source": [
    "df_his_all = (spark.read.load(P_CHATHIST)\n",
    "          .filter((col(\"create_dt\") >= \"2024-10-01\") & (col(\"create_dt\") <= \"2024-10-07\"))\n",
    "          .select(\"session_id\",\"timestamp\",\"source\",\"input_text\",\"input_data\",\"flow_name\")\n",
    ")\n",
    "\n",
    "# Remove session_ids with test and mock data **********************************************************\n",
    "# filter out session_ids with channel = e2eteam4, adminconsole & enablemock (as these are for testing purpose)\n",
    "df_test_ids = (df_his_all.select(f.col(\"session_id\"))\n",
    "                  .filter((f.col(\"channel\").isin([\"e2eteam4\",\"adminconsole\"]))\n",
    "                  | (f.lower(f.col(\"input_text\")) == \"enablemock\"))\n",
    ")\n",
    "print(df_test_ids.select(f.countDistinct(\"session_id\")).collect()[0][0],\" : MOCK SESSIONS\")\n",
    "# REMOVE all the filtered sessions from chatbot inputs\n",
    "df_his_all = df_his_all.join(df_test_ids,\"session_id\",\"leftanti\")\n",
    "# ******************************************************************************************************\n",
    "\n",
    "df_his_all.cache()\n",
    "print(df_his_all.select(f.countDistinct(\"session_id\")).collect()[0][0],\" : REMAINING DISTINCT SESSIONS\")"
   ]
  },
  {
   "cell_type": "code",
   "execution_count": 0,
   "metadata": {
    "application/vnd.databricks.v1+cell": {
     "cellMetadata": {
      "byteLimit": 2048000,
      "rowLimit": 10000
     },
     "inputWidgets": {},
     "nuid": "74905a95-004e-4be7-9bbc-9ed07f00c847",
     "showTitle": false,
     "tableResultSettingsMap": {},
     "title": ""
    }
   },
   "outputs": [],
   "source": [
    "from pyspark.sql.functions import min, max\n",
    "\n",
    "# Assuming df_his_all has the create_dt column\n",
    "min_max_dates = df_his_all.agg(\n",
    "    min(\"timestamp\").alias(\"min_timestamp\"),\n",
    "    max(\"timestamp\").alias(\"max_timestamp\")\n",
    ").collect()[0]\n",
    "\n",
    "min_date = min_max_dates[\"min_timestamp\"]\n",
    "max_date = min_max_dates[\"max_timestamp\"]\n",
    "\n",
    "print(f\"Min timestamp: {min_date}\")\n",
    "print(f\"Max cretimestampate_dt: {max_date}\")"
   ]
  },
  {
   "cell_type": "code",
   "execution_count": 0,
   "metadata": {
    "application/vnd.databricks.v1+cell": {
     "cellMetadata": {
      "byteLimit": 2048000,
      "rowLimit": 10000
     },
     "inputWidgets": {},
     "nuid": "b98bf3b5-c0a4-4229-ba18-4db18c18e574",
     "showTitle": false,
     "tableResultSettingsMap": {},
     "title": ""
    }
   },
   "outputs": [],
   "source": [
    "# take only those sessions that contains '{\"handoverStarted\":true}' in input_data \n",
    "df_his_ho = df_his_all.filter(f.col(\"input_data\").contains('{\"handoverStarted\":true}')) #.filter(col(\"flow_name\").isin([\"Handover\",\"HandoverGenesys\"])) #31087\n",
    "df_his_ho = df_his_ho.select(\"session_id\").dropDuplicates([\"session_id\"])\n",
    "print(\"handover sessions            :\",df_his_ho.count())\n",
    "df_his_ho = df_his_ho.join(df_his_all,\"session_id\",\"left\")"
   ]
  },
  {
   "cell_type": "code",
   "execution_count": 0,
   "metadata": {
    "application/vnd.databricks.v1+cell": {
     "cellMetadata": {
      "byteLimit": 2048000,
      "rowLimit": 10000
     },
     "inputWidgets": {},
     "nuid": "3169e636-9cf6-45f3-81d0-91db0f21cadd",
     "showTitle": false,
     "tableResultSettingsMap": {},
     "title": ""
    }
   },
   "outputs": [],
   "source": [
    "# only pick part of the conversation that is relevant for analysis.\n",
    "# Start of handover: from \"Would you please briefly describe your concern?\" line in input_text column\n",
    "# End of handover: till line \"{\"handoverStarted\":false}\" in input_data column\n",
    "\n",
    "#df_ho_start = df_ho_ci.withColumn(\"has_handover\", when(col(\"input_data\").contains('{\"handoverStarted\":true}'), 1).otherwise(0))\n",
    "df_ho_start = df_his_ho.withColumn(\"has_handover\", when(col(\"input_text\") == \"Would you please briefly describe your concern?\", 1).otherwise(0))\n",
    "\n",
    "# Define window specification\n",
    "window_spec = Window.partitionBy(\"session_id\").orderBy(\"timestamp\").rowsBetween(Window.unboundedPreceding, Window.currentRow)\n",
    "\n",
    "# Add a cumulative sum column\n",
    "df_ho_start = df_ho_start.withColumn(\"handover_num\", sum(col(\"has_handover\")).over(window_spec))\n",
    "df_ho_start = df_ho_start.withColumn(\"session_handover_id\", f.concat_ws('-h',df_ho_start.session_id, df_ho_start.handover_num))\n",
    "#df_ho_start.orderBy(\"session_id\",\"timestamp\").display()"
   ]
  },
  {
   "cell_type": "code",
   "execution_count": 0,
   "metadata": {
    "application/vnd.databricks.v1+cell": {
     "cellMetadata": {},
     "inputWidgets": {},
     "nuid": "ba6ac09f-beed-4632-97b9-4bd24292a1a0",
     "showTitle": false,
     "tableResultSettingsMap": {},
     "title": ""
    }
   },
   "outputs": [],
   "source": [
    "SAMPLE_SESSIONS = [\n",
    "    \"session-100187137356.33586\", #has 3 handovers {\"handoverProvider\":\"cla\"}\n",
    "    \"session-1005182475952.2295\", # 1 ho {\"handoverProvider\":\"genesys\"}\n",
    "    \"session-1005632292306.0394\", # 1 ho {\"handoverProvider\":\"genesys\"} \n",
    "]"
   ]
  },
  {
   "cell_type": "code",
   "execution_count": 0,
   "metadata": {
    "application/vnd.databricks.v1+cell": {
     "cellMetadata": {},
     "inputWidgets": {},
     "nuid": "8bba2981-e0d2-4722-99ed-87fa3992940b",
     "showTitle": false,
     "tableResultSettingsMap": {},
     "title": ""
    }
   },
   "outputs": [],
   "source": [
    "#df_ho_start1 = df_ho_start.filter(col(\"session_id\").isin(SAMPLE_SESSIONS))\n",
    "df_ho_start1 = df_ho_start"
   ]
  },
  {
   "cell_type": "code",
   "execution_count": 0,
   "metadata": {
    "application/vnd.databricks.v1+cell": {
     "cellMetadata": {},
     "inputWidgets": {},
     "nuid": "58dd8ec7-3ac4-4d52-8f00-027d8a29eec7",
     "showTitle": false,
     "tableResultSettingsMap": {},
     "title": ""
    }
   },
   "outputs": [],
   "source": [
    "# Add a column to identify end of Live Chat\n",
    "df_ho_start1 = df_ho_start1.withColumn(\"handover_end\", when(col(\"input_data\").contains('{\"handoverStarted\":false}'), 1).otherwise(0))\n",
    "#df_ho_start1.display()"
   ]
  },
  {
   "cell_type": "code",
   "execution_count": 0,
   "metadata": {
    "application/vnd.databricks.v1+cell": {
     "cellMetadata": {
      "byteLimit": 2048000,
      "rowLimit": 10000
     },
     "inputWidgets": {},
     "nuid": "a42ba44b-14be-4103-9754-b5d88989007f",
     "showTitle": false,
     "tableResultSettingsMap": {},
     "title": ""
    }
   },
   "outputs": [],
   "source": [
    "# Define window specification\n",
    "window_spec1 = Window.partitionBy(\"session_handover_id\").orderBy(\"timestamp\").rowsBetween(Window.unboundedPreceding, Window.currentRow)\n",
    "\n",
    "# Add a cumulative sum column\n",
    "df_ho_start1 = df_ho_start1.withColumn(\"handover_ended\", sum(col(\"handover_end\")).over(window_spec1))\n",
    "#df_ho_start1.display()"
   ]
  },
  {
   "cell_type": "code",
   "execution_count": 0,
   "metadata": {
    "application/vnd.databricks.v1+cell": {
     "cellMetadata": {
      "byteLimit": 2048000,
      "rowLimit": 10000
     },
     "inputWidgets": {},
     "nuid": "7082a8db-5b2b-4711-9e2a-7794898f3aaa",
     "showTitle": false,
     "tableResultSettingsMap": {},
     "title": ""
    }
   },
   "outputs": [],
   "source": [
    "# drop all lines before \"Would you please briefly describe your concern?\" and all lines AFTER {\"handoverStarted\":false}\n",
    "df_ho_start1 = (df_ho_start1\n",
    "                .filter(col(\"handover_num\") > 0) # drop all lines before\n",
    "                .filter(col(\"handover_ended\") == 0) # drop all lines AFTER {\"handoverStarted\":false}\n",
    "                .drop(\"has_handover\",\"handover_num\",\"handover_end\",\"handover_ended\")\n",
    ")\n",
    "#df_ho_start1.display()"
   ]
  },
  {
   "cell_type": "code",
   "execution_count": 0,
   "metadata": {
    "application/vnd.databricks.v1+cell": {
     "cellMetadata": {
      "byteLimit": 2048000,
      "rowLimit": 10000
     },
     "inputWidgets": {},
     "nuid": "f88ea4e7-aa7d-465f-af78-3a33e5249123",
     "showTitle": false,
     "tableResultSettingsMap": {},
     "title": ""
    }
   },
   "outputs": [],
   "source": [
    "#filter unwanted rows\n",
    "df_ho_start2 = (df_ho_start1\n",
    "          .filter(col(\"input_text\").isNotNull())\n",
    "          .filter(~col(\"input_text\").contains(\"cIntent:\"))\n",
    "          .filter(~col(\"input_text\").startswith(\"START_\"))\n",
    "          .filter(~(col(\"input_text\") == \"GET_STARTED\"))\n",
    ")\n",
    "\n",
    "#cleanup\n",
    "df_ho_start2 = (df_ho_start2\n",
    "      .withColumn(\"input_text\",regexp_replace(\"input_text\", \"[\\s\\t\\r\\n]+\", \" \"))\n",
    "      .withColumn(\"input_text\",regexp_replace(\"input_text\", '\\[TRANSL\\]', ''))\n",
    "      .withColumn(\"input_text\", trim(col(\"input_text\")))\n",
    "      .withColumn(\"input_text\",regexp_replace(\"input_text\", '\"', \"'\"))\n",
    "      .withColumn(\"input_text\",regexp_replace(\"input_text\", ';', \",\")) # as we will combine full conversation using ;\n",
    "      .withColumn(\"input_text\",regexp_replace(\"input_text\", ':', \",\")) # as we will each conversation line (input_text) with source (bot, user, agent) using :\n",
    "      .filter(col(\"input_text\") != \"\")\n",
    "      .orderBy(\"session_handover_id\",\"timestamp\")\n",
    ")"
   ]
  },
  {
   "cell_type": "code",
   "execution_count": 0,
   "metadata": {
    "application/vnd.databricks.v1+cell": {
     "cellMetadata": {
      "byteLimit": 2048000,
      "rowLimit": 10000
     },
     "inputWidgets": {},
     "nuid": "f5b57678-a093-4fac-8b5b-8bcd6bc5f233",
     "showTitle": false,
     "tableResultSettingsMap": {},
     "title": ""
    }
   },
   "outputs": [],
   "source": [
    "df_ho_start2 = df_ho_start2.withColumn(\"conversation_line\", f.concat_ws(': ',df_ho_start2.source, df_ho_start2.input_text))\n",
    "#df_ho_start2.display()\n"
   ]
  },
  {
   "cell_type": "code",
   "execution_count": 0,
   "metadata": {
    "application/vnd.databricks.v1+cell": {
     "cellMetadata": {
      "byteLimit": 2048000,
      "rowLimit": 10000
     },
     "inputWidgets": {},
     "nuid": "3ef9323d-6d6b-4217-9c98-32ddea014860",
     "showTitle": false,
     "tableResultSettingsMap": {},
     "title": ""
    }
   },
   "outputs": [],
   "source": [
    "# complete user conversation\n",
    "df_conv = df_ho_start2.groupBy(\"session_handover_id\").agg(collect_list(\"conversation_line\").alias(\"full_conversation_list\"), count(\"session_handover_id\").alias(\"agent_interaction_count\"))\n",
    "\n",
    "df_conv = (df_conv\n",
    "           #.filter(col(\"interaction_count\") > 1)\n",
    "           .withColumn(\"full_conversation\", concat_ws(\". \", col(\"full_conversation_list\")))\n",
    "           .withColumn(\"full_conversation\",regexp_replace(\"full_conversation\", r'\\.{2,}', '.')) #remove consecutive periods\n",
    "           .withColumn(\"full_conversation\",regexp_replace(\"full_conversation\", r'([!?,;:])\\.', '$1')) #if a punctuation mark followed by a period, remove the period\n",
    ")\n",
    "\n",
    "print(df_conv.count())\n",
    "df_conv.orderBy(col(\"agent_interaction_count\").desc()).display()"
   ]
  },
  {
   "cell_type": "code",
   "execution_count": 0,
   "metadata": {
    "application/vnd.databricks.v1+cell": {
     "cellMetadata": {
      "byteLimit": 2048000,
      "rowLimit": 10000
     },
     "inputWidgets": {},
     "nuid": "88b6f160-9968-4f0a-b79f-5ab03c7f498b",
     "showTitle": false,
     "tableResultSettingsMap": {},
     "title": ""
    }
   },
   "outputs": [],
   "source": [
    "# Select only the first 5000 rows\n",
    "df_conv1 = df_conv.select(\"session_handover_id\",\"full_conversation\").filter(col(\"agent_interaction_count\").between(0,5000)).limit(5000)\n",
    "print(df_conv1.count())\n",
    "df_conv1.display()"
   ]
  },
  {
   "cell_type": "code",
   "execution_count": 0,
   "metadata": {
    "application/vnd.databricks.v1+cell": {
     "cellMetadata": {
      "byteLimit": 2048000,
      "rowLimit": 10000
     },
     "inputWidgets": {},
     "nuid": "afafb745-695e-49e9-95ae-7ff0c9466c11",
     "showTitle": false,
     "tableResultSettingsMap": {},
     "title": ""
    }
   },
   "outputs": [],
   "source": [
    "### SAVE FULL DATA OR SAMPLE HERE"
   ]
  }
 ],
 "metadata": {
  "application/vnd.databricks.v1+notebook": {
   "computePreferences": null,
   "dashboards": [],
   "environmentMetadata": null,
   "language": "python",
   "notebookMetadata": {
    "pythonIndentUnit": 4
   },
   "notebookName": "handover__code__1_data_cleaning",
   "widgets": {}
  },
  "language_info": {
   "name": "python"
  }
 },
 "nbformat": 4,
 "nbformat_minor": 0
}